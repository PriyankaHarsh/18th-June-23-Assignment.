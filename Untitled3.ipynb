{
  "nbformat": 4,
  "nbformat_minor": 0,
  "metadata": {
    "colab": {
      "provenance": []
    },
    "kernelspec": {
      "name": "python3",
      "display_name": "Python 3"
    },
    "language_info": {
      "name": "python"
    }
  },
  "cells": [
    {
      "cell_type": "markdown",
      "source": [
        "**18th June '23 Assignment.**"
      ],
      "metadata": {
        "id": "ShcXyE8ejySP"
      }
    },
    {
      "cell_type": "markdown",
      "source": [
        "Q1. What is the role of the 'else' block in a try-except statement? Provide an example\n",
        "scenario where it would be useful."
      ],
      "metadata": {
        "id": "0CDKL7epj20_"
      }
    },
    {
      "cell_type": "markdown",
      "source": [
        "ANS1. Role of 'else' block in a try-except statement\n",
        "\n",
        "The else block in a try-except statement is executed when no exception occurs in the try block. It is useful for executing code that should run only if the try block succeeds without any exceptions."
      ],
      "metadata": {
        "id": "3yGX_FKInyTv"
      }
    },
    {
      "cell_type": "code",
      "source": [
        "try:\n",
        "    result = 10 / 2\n",
        "except ZeroDivisionError:\n",
        "    print(\"Error: Division by zero\")\n",
        "else:\n",
        "    print(f\"Result: {result}\")\n"
      ],
      "metadata": {
        "colab": {
          "base_uri": "https://localhost:8080/"
        },
        "id": "IBAzb-dJn32g",
        "outputId": "75419303-b668-4388-eb8c-19c9a7325082"
      },
      "execution_count": 1,
      "outputs": [
        {
          "output_type": "stream",
          "name": "stdout",
          "text": [
            "Result: 5.0\n"
          ]
        }
      ]
    },
    {
      "cell_type": "markdown",
      "source": [
        "Q2. Can a try-except block be nested inside another try-except block? Explain with an\n",
        "example."
      ],
      "metadata": {
        "id": "accsCEeioDeg"
      }
    },
    {
      "cell_type": "markdown",
      "source": [
        "ANS2. Nesting try-except blocks\n",
        "\n",
        "Yes, a try-except block can be nested inside another try-except block. This is useful for handling different levels of exceptions or for more granular error handling.\n",
        "\n",
        "Example:"
      ],
      "metadata": {
        "id": "uBsNuCfxoK1g"
      }
    },
    {
      "cell_type": "code",
      "source": [
        "try:\n",
        "    try:\n",
        "        result = 10 / 0  # This will raise a ZeroDivisionError\n",
        "    except ZeroDivisionError:\n",
        "        print(\"Inner except block: Division by zero\")\n",
        "\n",
        "    # Simulating another operation that might raise a ValueError\n",
        "    try:\n",
        "        int(\"abc\")\n",
        "    except ValueError:\n",
        "        print(\"Inner except block: Invalid conversion to integer\")\n",
        "except Exception as e:\n",
        "    print(f\"Outer except block: An error occurred - {type(e).__name__}: {e}\")\n"
      ],
      "metadata": {
        "colab": {
          "base_uri": "https://localhost:8080/"
        },
        "id": "lt-1vV-RoQRl",
        "outputId": "5babab4b-998b-47ed-f0c8-e9ee5fe39a7c"
      },
      "execution_count": 2,
      "outputs": [
        {
          "output_type": "stream",
          "name": "stdout",
          "text": [
            "Inner except block: Division by zero\n",
            "Inner except block: Invalid conversion to integer\n"
          ]
        }
      ]
    },
    {
      "cell_type": "markdown",
      "source": [
        "Q3. How can you create a custom exception class in Python? Provide an example that\n",
        "demonstrates its usage."
      ],
      "metadata": {
        "id": "475IQmVCoWW6"
      }
    },
    {
      "cell_type": "markdown",
      "source": [
        "ANS3. Creating a custom exception class in Python:\n",
        "\n",
        "You can create a custom exception class by inheriting from Python's built-in Exception class.\n",
        "\n",
        "Example:"
      ],
      "metadata": {
        "id": "W0xvjpH-ocC_"
      }
    },
    {
      "cell_type": "code",
      "source": [
        "class CustomError(Exception):\n",
        "    def __init__(self, message):\n",
        "        self.message = message\n",
        "\n",
        "# Using the custom exception class\n",
        "try:\n",
        "    raise CustomError(\"This is a custom error message\")\n",
        "except CustomError as e:\n",
        "    print(f\"CustomError raised: {e.message}\")\n"
      ],
      "metadata": {
        "colab": {
          "base_uri": "https://localhost:8080/"
        },
        "id": "4hlm7EcZofiX",
        "outputId": "332a46bf-320a-4798-df18-cf8ce0b9085c"
      },
      "execution_count": 3,
      "outputs": [
        {
          "output_type": "stream",
          "name": "stdout",
          "text": [
            "CustomError raised: This is a custom error message\n"
          ]
        }
      ]
    },
    {
      "cell_type": "markdown",
      "source": [
        "Q4. What are some common exceptions that are built-in to Python?"
      ],
      "metadata": {
        "id": "WSiOEXBKorZZ"
      }
    },
    {
      "cell_type": "markdown",
      "source": [
        "ANS4.  Common built-in exceptions in Python\n",
        "\n",
        "Some common built-in exceptions in Python include:\n",
        "\n",
        "* ZeroDivisionError\n",
        "\n",
        "* ValueError\n",
        "\n",
        "* TypeError\n",
        "\n",
        "* IndexError\n",
        "\n",
        "* KeyError\n",
        "\n",
        "* FileNotFoundError\n",
        "\n",
        "* NameError\n",
        "\n",
        "* SyntaxError"
      ],
      "metadata": {
        "id": "Q0OVnBFKosg5"
      }
    },
    {
      "cell_type": "markdown",
      "source": [
        "Q5. What is logging in Python, and why is it important in software development?"
      ],
      "metadata": {
        "id": "nhtr3d6JpAYC"
      }
    },
    {
      "cell_type": "markdown",
      "source": [
        "ANS5. Logging in Python and its importance\n",
        "\n",
        "Logging in Python involves recording messages that provide insights into the status or behavior of a program during its execution. It is crucial in software development for debugging, monitoring, and auditing applications without disrupting their output or functionality."
      ],
      "metadata": {
        "id": "-3TJ_cdmpDZu"
      }
    },
    {
      "cell_type": "markdown",
      "source": [
        "Q6. Explain the purpose of log levels in Python logging and provide examples of when\n",
        "each log level would be appropriate."
      ],
      "metadata": {
        "id": "Vo9ZY-MepIeW"
      }
    },
    {
      "cell_type": "markdown",
      "source": [
        "ANS6. Purpose of log levels in Python logging\n",
        "\n",
        "Log levels in Python logging categorize log messages by severity, allowing developers to control which messages are recorded based on their importance.\n",
        "\n",
        "Examples of Log Levels:\n",
        "\n",
        "* DEBUG: Detailed information, typically of interest only when diagnosing problems.\n",
        "\n",
        "* INFO: Confirmation that things are working as expected.\n",
        "\n",
        "* WARNING: Indication that something unexpected happened or indicative of some problem in the near future.\n",
        "\n",
        "* ERROR: Due to a more serious problem, the software has not been able to perform some function.\n",
        "\n",
        "* CRITICAL: A serious error, indicating that the program itself may be unable to continue running."
      ],
      "metadata": {
        "id": "wqnGdZhtpUNM"
      }
    },
    {
      "cell_type": "markdown",
      "source": [
        "Q7. What are log formatters in Python logging, and how can you customise the log\n",
        "message format using formatters?"
      ],
      "metadata": {
        "id": "NWqfX8cjpmAh"
      }
    },
    {
      "cell_type": "markdown",
      "source": [
        "ANS7  Log formatters define the structure and content of log messages. They allow customization of how log messages are formatted, including timestamps, log levels, and specific details about the event being logged."
      ],
      "metadata": {
        "id": "Oq31uFiXpqzG"
      }
    },
    {
      "cell_type": "markdown",
      "source": [
        "Q8. How can you set up logging to capture log messages from multiple modules or\n",
        "classes in a Python application?"
      ],
      "metadata": {
        "id": "_ICI5qBPpv4x"
      }
    },
    {
      "cell_type": "markdown",
      "source": [
        "ANS8 To capture log messages from multiple modules or classes in a Python application, you can configure a logger in each module or class and set up a centralized logging configuration"
      ],
      "metadata": {
        "id": "bEbIl1QzpzwC"
      }
    },
    {
      "cell_type": "markdown",
      "source": [
        "Q9. What is the difference between the logging and print statements in Python? When\n",
        "should you use logging over print statements in a real-world application?"
      ],
      "metadata": {
        "id": "NTXnVSOMp7aa"
      }
    },
    {
      "cell_type": "markdown",
      "source": [
        "ANS9. Difference between logging and print statements in Python\n",
        "\n",
        "* Logging: Designed for monitoring and debugging applications. Allows flexible output to various destinations (e.g., console, files) with customizable log levels and formatting.\n",
        "\n",
        "* Print Statements: Simple output to the console for basic debugging purposes. Not suitable for production code as it lacks features like severity levels, timestamps, and easy redirection of output."
      ],
      "metadata": {
        "id": "En9qPkQ6qD8w"
      }
    },
    {
      "cell_type": "markdown",
      "source": [
        "Q10. Write a Python program that logs a message to a file named \"app.log\" with the following requirements:\n",
        "\n",
        "● The log message should be \"Hello, World!\"\n",
        "\n",
        "● The log level should be set to \"INFO.\"\n",
        "\n",
        "● The log file should append new log entries without overwriting previous ones."
      ],
      "metadata": {
        "id": "RLUM3UXZqJBo"
      }
    },
    {
      "cell_type": "code",
      "source": [
        "import logging\n",
        "\n",
        "# Configure logging to file\n",
        "logging.basicConfig(filename='app.log', level=logging.INFO)\n",
        "\n",
        "# Log \"Hello, World!\" with INFO level\n",
        "logging.info(\"Hello, World!\")\n"
      ],
      "metadata": {
        "id": "p4x_TZdzqY_o"
      },
      "execution_count": 4,
      "outputs": []
    },
    {
      "cell_type": "markdown",
      "source": [
        "Q11. Create a Python program that logs an error message to the console and a file named\n",
        "\"errors.log\" if an exception occurs during the program's execution. The error\n",
        "message should include the exception type and a timestamp."
      ],
      "metadata": {
        "id": "evwveWllqU40"
      }
    },
    {
      "cell_type": "code",
      "source": [
        "import logging\n",
        "import datetime\n",
        "\n",
        "# Configure logging to console and file\n",
        "logging.basicConfig(level=logging.ERROR, format='%(asctime)s - %(levelname)s - %(message)s', handlers=[\n",
        "    logging.FileHandler(\"errors.log\"),\n",
        "    logging.StreamHandler()\n",
        "])\n",
        "\n",
        "# Simulating an exception\n",
        "try:\n",
        "    result = 10 / 0  # This will raise a ZeroDivisionError\n",
        "except Exception as e:\n",
        "    logging.error(f\"Exception occurred: {type(e).__name__} - {e}\")\n"
      ],
      "metadata": {
        "colab": {
          "base_uri": "https://localhost:8080/"
        },
        "id": "oKbcOMMQql9I",
        "outputId": "db54316f-cfd8-49f6-a7c0-2244fa7c121a"
      },
      "execution_count": 5,
      "outputs": [
        {
          "output_type": "stream",
          "name": "stderr",
          "text": [
            "ERROR:root:Exception occurred: ZeroDivisionError - division by zero\n"
          ]
        }
      ]
    },
    {
      "cell_type": "markdown",
      "source": [
        "This code logs an error message, including the exception type and timestamp, to both the console and a file named \"errors.log\" when an exception (ZeroDivisionError in this case) occurs during execution."
      ],
      "metadata": {
        "id": "IMp7DTOfqvjd"
      }
    }
  ]
}